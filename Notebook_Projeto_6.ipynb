{
  "cells": [
    {
      "cell_type": "markdown",
      "metadata": {
        "id": "view-in-github",
        "colab_type": "text"
      },
      "source": [
        "<a href=\"https://colab.research.google.com/github/LaisHott/chicago-taxi-insights/blob/main/Notebook_Projeto_6.ipynb\" target=\"_parent\"><img src=\"https://colab.research.google.com/assets/colab-badge.svg\" alt=\"Open In Colab\"/></a>"
      ]
    },
    {
      "cell_type": "markdown",
      "metadata": {
        "id": "rUKddARmo0pd"
      },
      "source": [
        "# Explorando as Preferências dos Passageiros e o Impacto de Fatores Externos nas Corridas de Táxi\n",
        "\n",
        "***Um Estudo em Chicago para a Zuber***"
      ]
    },
    {
      "cell_type": "markdown",
      "metadata": {
        "id": "RF9Apwr4o0pm"
      },
      "source": [
        "O projeto consiste em analisar dados de corridas de táxi em Chicago para a empresa _Zuber_, uma nova empresa de compartilhamento de caronas. O objetivo é identificar padrões nas informações disponíveis e entender as preferências dos passageiros, bem como o impacto de fatores externos nas corridas.\n",
        "\n",
        "O projeto envolve o uso de um banco de dados que contém informações sobre _os bairros da cidade, os táxis, as corridas e os registros climáticos_. As tabelas do banco de dados incluem dados como o nome do bairro, o código do bairro, o código do veículo, a identificação técnica do veículo, a empresa proprietária do veículo, o código da corrida, a data e hora de início e fim da corrida, a duração da corrida, a distância percorrida, o código do bairro de retirada e entrega, o código de registro meteorológico, a data e hora do registro meteorológico, a temperatura e a descrição das condições meteorológicas.\n",
        "\n",
        "* No **passo 1**, foi necessário escrever um código em SQL para analisar os dados sobre o clima em Chicago em novembro de 2017 extraindo as informações diretamente do site https://practicum-content.s3.us-west-1.amazonaws.com/data-analyst-eng/moved_chicago_weather_2017.html\n",
        "* No **passo 2**, foi realizada uma análise exploratória dos dados onde encontramos:\n",
        "    * O número de corridas de táxi para cada empresa de táxi\n",
        "    * O número de corridas para cada empresa de táxi cujo nome contém as palavras \"Amarelo\" ou \"Azul\"\n",
        "    * O número de corridas para as empresas _Flash Cab_ e _Taxi Affiliation Services_.\n",
        "* No **passo 3**, foi necessário testar a hipótese de que a duração das corridas do Loop até ao Aeroporto Internacional O'Hare muda em sábados chuvosos.\n",
        "\n",
        "Essas etapas são essenciais para compreender os dados e identificar padrões relevantes para a empresa Zuber. Ao conduzir análises exploratórias e testar hipóteses, podemos obter insights valiosos que auxiliarão a empresa a tomar decisões embasadas e melhorar seus serviços de compartilhamento de caronas.\n"
      ]
    },
    {
      "cell_type": "markdown",
      "metadata": {
        "id": "5hBzuRino0pn"
      },
      "source": [
        "# Análise exploratória de dados (Python)"
      ]
    },
    {
      "cell_type": "markdown",
      "metadata": {
        "id": "jXi4ss5oo0pn"
      },
      "source": [
        "Nesta etapa, iremos realizar a Análise Exploratória de Dados e testar hipóteses usando a linguagem de programação Python. Nosso objetivo central é compreender as preferências dos passageiros, uma vez que eles desempenham um papel fundamental na economia da Zuber. Ao entender essas preferências, seremos capazes de adaptar nossos serviços para atender melhor às necessidades dos passageiros, proporcionando-lhes uma experiência de qualidade. Isso, por sua vez, contribuirá para o sucesso contínuo da Zuber, já que passageiros satisfeitos tendem a impulsionar o crescimento e a prosperidade da empresa."
      ]
    },
    {
      "cell_type": "markdown",
      "metadata": {
        "id": "ze2N_qmXo0pn"
      },
      "source": [
        "# Inicialização\n",
        "\n",
        "- Vamos prosseguir com a importação das bibliotecas necessárias e dos arquivos relevantes para nossa análise."
      ]
    },
    {
      "cell_type": "code",
      "execution_count": null,
      "metadata": {
        "id": "tPgqQ5oMo0po"
      },
      "outputs": [],
      "source": [
        "# Carregando todas as bibliotecas\n",
        "import pandas as pd\n",
        "import matplotlib.pyplot as plt\n",
        "import seaborn as sns\n",
        "import scipy.stats as stats\n",
        "from scipy.stats import mannwhitneyu"
      ]
    },
    {
      "cell_type": "markdown",
      "metadata": {
        "id": "t5EYGqFno0pp"
      },
      "source": [
        "## Carregar dados"
      ]
    },
    {
      "cell_type": "code",
      "execution_count": null,
      "metadata": {
        "id": "pF_l5V1eo0pp"
      },
      "outputs": [],
      "source": [
        "# Carregar os dados\n",
        "trips_data = pd.read_csv('/datasets/project_sql_result_01.csv')\n",
        "average_trips_data = pd.read_csv('/datasets/project_sql_result_04.csv')\n",
        "loop_trips = pd.read_csv('/datasets/project_sql_result_07.csv')"
      ]
    },
    {
      "cell_type": "markdown",
      "metadata": {
        "id": "cRn8T6N9o0pq"
      },
      "source": [
        "## Estudar os dados e o que eles contém\n",
        "\n",
        "- Ao analisar os dados para o projeto, identificamos que eles estão divididos em tabelas. Nesta etapa, realizamos a exploração inicial de cada tabela. A tabela `loop_trips` vamos usá-la no passo 5 para testar hipótese. Ela representa o resultado da última consulta contendo os dados sobre viagens do Loop para o Aeroporto Internacional O'Hare."
      ]
    },
    {
      "cell_type": "code",
      "execution_count": null,
      "metadata": {
        "id": "qnyKXc5Jo0pq",
        "outputId": "51ace4d0-36d1-4f56-d8ba-f9bfa3ad0da2"
      },
      "outputs": [
        {
          "data": {
            "text/html": [
              "<div>\n",
              "<style scoped>\n",
              "    .dataframe tbody tr th:only-of-type {\n",
              "        vertical-align: middle;\n",
              "    }\n",
              "\n",
              "    .dataframe tbody tr th {\n",
              "        vertical-align: top;\n",
              "    }\n",
              "\n",
              "    .dataframe thead th {\n",
              "        text-align: right;\n",
              "    }\n",
              "</style>\n",
              "<table border=\"1\" class=\"dataframe\">\n",
              "  <thead>\n",
              "    <tr style=\"text-align: right;\">\n",
              "      <th></th>\n",
              "      <th>company_name</th>\n",
              "      <th>trips_amount</th>\n",
              "    </tr>\n",
              "  </thead>\n",
              "  <tbody>\n",
              "    <tr>\n",
              "      <th>0</th>\n",
              "      <td>Flash Cab</td>\n",
              "      <td>19558</td>\n",
              "    </tr>\n",
              "    <tr>\n",
              "      <th>1</th>\n",
              "      <td>Taxi Affiliation Services</td>\n",
              "      <td>11422</td>\n",
              "    </tr>\n",
              "    <tr>\n",
              "      <th>2</th>\n",
              "      <td>Medallion Leasing</td>\n",
              "      <td>10367</td>\n",
              "    </tr>\n",
              "    <tr>\n",
              "      <th>3</th>\n",
              "      <td>Yellow Cab</td>\n",
              "      <td>9888</td>\n",
              "    </tr>\n",
              "    <tr>\n",
              "      <th>4</th>\n",
              "      <td>Taxi Affiliation Service Yellow</td>\n",
              "      <td>9299</td>\n",
              "    </tr>\n",
              "  </tbody>\n",
              "</table>\n",
              "</div>"
            ],
            "text/plain": [
              "                      company_name  trips_amount\n",
              "0                        Flash Cab         19558\n",
              "1        Taxi Affiliation Services         11422\n",
              "2                Medallion Leasing         10367\n",
              "3                       Yellow Cab          9888\n",
              "4  Taxi Affiliation Service Yellow          9299"
            ]
          },
          "execution_count": 50,
          "metadata": {},
          "output_type": "execute_result"
        }
      ],
      "source": [
        "# Verificando amostra de dados\n",
        "trips_data.head()"
      ]
    },
    {
      "cell_type": "code",
      "execution_count": null,
      "metadata": {
        "id": "BqosXpS0o0pr",
        "outputId": "4e0a0256-f7ab-4546-fbf9-1add870e80bf"
      },
      "outputs": [
        {
          "data": {
            "text/html": [
              "<div>\n",
              "<style scoped>\n",
              "    .dataframe tbody tr th:only-of-type {\n",
              "        vertical-align: middle;\n",
              "    }\n",
              "\n",
              "    .dataframe tbody tr th {\n",
              "        vertical-align: top;\n",
              "    }\n",
              "\n",
              "    .dataframe thead th {\n",
              "        text-align: right;\n",
              "    }\n",
              "</style>\n",
              "<table border=\"1\" class=\"dataframe\">\n",
              "  <thead>\n",
              "    <tr style=\"text-align: right;\">\n",
              "      <th></th>\n",
              "      <th>dropoff_location_name</th>\n",
              "      <th>average_trips</th>\n",
              "    </tr>\n",
              "  </thead>\n",
              "  <tbody>\n",
              "    <tr>\n",
              "      <th>0</th>\n",
              "      <td>Loop</td>\n",
              "      <td>10727.466667</td>\n",
              "    </tr>\n",
              "    <tr>\n",
              "      <th>1</th>\n",
              "      <td>River North</td>\n",
              "      <td>9523.666667</td>\n",
              "    </tr>\n",
              "    <tr>\n",
              "      <th>2</th>\n",
              "      <td>Streeterville</td>\n",
              "      <td>6664.666667</td>\n",
              "    </tr>\n",
              "    <tr>\n",
              "      <th>3</th>\n",
              "      <td>West Loop</td>\n",
              "      <td>5163.666667</td>\n",
              "    </tr>\n",
              "    <tr>\n",
              "      <th>4</th>\n",
              "      <td>O'Hare</td>\n",
              "      <td>2546.900000</td>\n",
              "    </tr>\n",
              "  </tbody>\n",
              "</table>\n",
              "</div>"
            ],
            "text/plain": [
              "  dropoff_location_name  average_trips\n",
              "0                  Loop   10727.466667\n",
              "1           River North    9523.666667\n",
              "2         Streeterville    6664.666667\n",
              "3             West Loop    5163.666667\n",
              "4                O'Hare    2546.900000"
            ]
          },
          "execution_count": 51,
          "metadata": {},
          "output_type": "execute_result"
        }
      ],
      "source": [
        "average_trips_data.head()"
      ]
    },
    {
      "cell_type": "code",
      "execution_count": null,
      "metadata": {
        "id": "p3kvCKV8o0pr",
        "outputId": "7aaed040-2315-4552-c7c3-158a95051204"
      },
      "outputs": [
        {
          "data": {
            "text/html": [
              "<div>\n",
              "<style scoped>\n",
              "    .dataframe tbody tr th:only-of-type {\n",
              "        vertical-align: middle;\n",
              "    }\n",
              "\n",
              "    .dataframe tbody tr th {\n",
              "        vertical-align: top;\n",
              "    }\n",
              "\n",
              "    .dataframe thead th {\n",
              "        text-align: right;\n",
              "    }\n",
              "</style>\n",
              "<table border=\"1\" class=\"dataframe\">\n",
              "  <thead>\n",
              "    <tr style=\"text-align: right;\">\n",
              "      <th></th>\n",
              "      <th>start_ts</th>\n",
              "      <th>weather_conditions</th>\n",
              "      <th>duration_seconds</th>\n",
              "    </tr>\n",
              "  </thead>\n",
              "  <tbody>\n",
              "    <tr>\n",
              "      <th>0</th>\n",
              "      <td>2017-11-25 16:00:00</td>\n",
              "      <td>Good</td>\n",
              "      <td>2410.0</td>\n",
              "    </tr>\n",
              "    <tr>\n",
              "      <th>1</th>\n",
              "      <td>2017-11-25 14:00:00</td>\n",
              "      <td>Good</td>\n",
              "      <td>1920.0</td>\n",
              "    </tr>\n",
              "    <tr>\n",
              "      <th>2</th>\n",
              "      <td>2017-11-25 12:00:00</td>\n",
              "      <td>Good</td>\n",
              "      <td>1543.0</td>\n",
              "    </tr>\n",
              "    <tr>\n",
              "      <th>3</th>\n",
              "      <td>2017-11-04 10:00:00</td>\n",
              "      <td>Good</td>\n",
              "      <td>2512.0</td>\n",
              "    </tr>\n",
              "    <tr>\n",
              "      <th>4</th>\n",
              "      <td>2017-11-11 07:00:00</td>\n",
              "      <td>Good</td>\n",
              "      <td>1440.0</td>\n",
              "    </tr>\n",
              "  </tbody>\n",
              "</table>\n",
              "</div>"
            ],
            "text/plain": [
              "              start_ts weather_conditions  duration_seconds\n",
              "0  2017-11-25 16:00:00               Good            2410.0\n",
              "1  2017-11-25 14:00:00               Good            1920.0\n",
              "2  2017-11-25 12:00:00               Good            1543.0\n",
              "3  2017-11-04 10:00:00               Good            2512.0\n",
              "4  2017-11-11 07:00:00               Good            1440.0"
            ]
          },
          "execution_count": 52,
          "metadata": {},
          "output_type": "execute_result"
        }
      ],
      "source": [
        "loop_trips.head()"
      ]
    },
    {
      "cell_type": "markdown",
      "metadata": {
        "id": "eEQhP1r0o0pr"
      },
      "source": [
        "O dataframe **`trips_data`** contém os seguintes dados:\n",
        "\n",
        "* `company_name`: nome da empresa de táxi\n",
        "\n",
        "* `trips_amount`: o número de corridas para cada empresa de táxi de 15 a 16 de novembro de 2017.\n",
        "\n",
        "O dataframe **`average_trips_data`** contém os seguintes dados:\n",
        "* `dropoff_location_name`: bairros de Chicago onde as corridas terminaram\n",
        "\n",
        "* `average_trips`: o número médio de viagens que terminaram em cada bairro em novembro de 2017."
      ]
    },
    {
      "cell_type": "markdown",
      "metadata": {
        "id": "CoExvvv1o0ps"
      },
      "source": [
        "## Verificando se os tipos de dados estão corretos\n",
        "\n",
        "Após importarmos os dados relevantes, vamos proceder com a verificação dos tipos de dados para garantir sua correção. Essa etapa é crucial para garantir a consistência e a integridade dos dados durante a análise exploratória.\n",
        "\n",
        "Ao verificar os tipos de dados, podemos realizar as conversões necessárias para garantir que as informações sejam interpretadas corretamente, possibilitando análises confiáveis e resultados mais precisos para entender as preferências dos passageiros na Zuber."
      ]
    },
    {
      "cell_type": "markdown",
      "metadata": {
        "id": "-A4dwQvwo0ps"
      },
      "source": [
        "### Analisando `trips_data`"
      ]
    },
    {
      "cell_type": "code",
      "execution_count": null,
      "metadata": {
        "id": "UieOJoJ7o0ps",
        "outputId": "0370e2ff-1982-4184-c651-697343f0e7cf"
      },
      "outputs": [
        {
          "name": "stdout",
          "output_type": "stream",
          "text": [
            "<class 'pandas.core.frame.DataFrame'>\n",
            "RangeIndex: 64 entries, 0 to 63\n",
            "Data columns (total 2 columns):\n",
            " #   Column        Non-Null Count  Dtype \n",
            "---  ------        --------------  ----- \n",
            " 0   company_name  64 non-null     object\n",
            " 1   trips_amount  64 non-null     int64 \n",
            "dtypes: int64(1), object(1)\n",
            "memory usage: 1.1+ KB\n"
          ]
        }
      ],
      "source": [
        "# Verificando o dataframe \"trips_data\"\n",
        "trips_data.info()"
      ]
    },
    {
      "cell_type": "code",
      "execution_count": null,
      "metadata": {
        "id": "Lf2-G_Fno0ps",
        "outputId": "ff60b8c9-e1d2-4bde-8f45-aaa682550f76"
      },
      "outputs": [
        {
          "data": {
            "text/plain": [
              "(64, 2)"
            ]
          },
          "execution_count": 54,
          "metadata": {},
          "output_type": "execute_result"
        }
      ],
      "source": [
        "# Verificando o tamanho do dataframe\n",
        "trips_data.shape"
      ]
    },
    {
      "cell_type": "code",
      "execution_count": null,
      "metadata": {
        "id": "ui4Hnm3Co0pt",
        "outputId": "f1c4a9da-0606-4c7b-bedd-afdf3cd84b28"
      },
      "outputs": [
        {
          "data": {
            "text/plain": [
              "0"
            ]
          },
          "execution_count": 55,
          "metadata": {},
          "output_type": "execute_result"
        }
      ],
      "source": [
        "#Verificando dados duplicados\n",
        "trips_data.duplicated().sum()"
      ]
    },
    {
      "cell_type": "code",
      "execution_count": null,
      "metadata": {
        "id": "JRqvab5No0pt",
        "outputId": "1803686d-44da-4a81-d16d-16ef5f6d46ea"
      },
      "outputs": [
        {
          "data": {
            "text/html": [
              "<div>\n",
              "<style scoped>\n",
              "    .dataframe tbody tr th:only-of-type {\n",
              "        vertical-align: middle;\n",
              "    }\n",
              "\n",
              "    .dataframe tbody tr th {\n",
              "        vertical-align: top;\n",
              "    }\n",
              "\n",
              "    .dataframe thead th {\n",
              "        text-align: right;\n",
              "    }\n",
              "</style>\n",
              "<table border=\"1\" class=\"dataframe\">\n",
              "  <thead>\n",
              "    <tr style=\"text-align: right;\">\n",
              "      <th></th>\n",
              "      <th>trips_amount</th>\n",
              "    </tr>\n",
              "  </thead>\n",
              "  <tbody>\n",
              "    <tr>\n",
              "      <th>count</th>\n",
              "      <td>64.000000</td>\n",
              "    </tr>\n",
              "    <tr>\n",
              "      <th>mean</th>\n",
              "      <td>2145.484375</td>\n",
              "    </tr>\n",
              "    <tr>\n",
              "      <th>std</th>\n",
              "      <td>3812.310186</td>\n",
              "    </tr>\n",
              "    <tr>\n",
              "      <th>min</th>\n",
              "      <td>2.000000</td>\n",
              "    </tr>\n",
              "    <tr>\n",
              "      <th>25%</th>\n",
              "      <td>20.750000</td>\n",
              "    </tr>\n",
              "    <tr>\n",
              "      <th>50%</th>\n",
              "      <td>178.500000</td>\n",
              "    </tr>\n",
              "    <tr>\n",
              "      <th>75%</th>\n",
              "      <td>2106.500000</td>\n",
              "    </tr>\n",
              "    <tr>\n",
              "      <th>max</th>\n",
              "      <td>19558.000000</td>\n",
              "    </tr>\n",
              "  </tbody>\n",
              "</table>\n",
              "</div>"
            ],
            "text/plain": [
              "       trips_amount\n",
              "count     64.000000\n",
              "mean    2145.484375\n",
              "std     3812.310186\n",
              "min        2.000000\n",
              "25%       20.750000\n",
              "50%      178.500000\n",
              "75%     2106.500000\n",
              "max    19558.000000"
            ]
          },
          "execution_count": 56,
          "metadata": {},
          "output_type": "execute_result"
        }
      ],
      "source": [
        "#Verificando estatísticas descritivas\n",
        "trips_data.describe()"
      ]
    },
    {
      "cell_type": "markdown",
      "metadata": {
        "id": "roEyuWbIo0pt"
      },
      "source": [
        "### Analisando `average_trips_data`"
      ]
    },
    {
      "cell_type": "code",
      "execution_count": null,
      "metadata": {
        "id": "2vci6rMPo0pt",
        "outputId": "ae11ff3b-6b98-4d14-f873-cca1205248c6"
      },
      "outputs": [
        {
          "name": "stdout",
          "output_type": "stream",
          "text": [
            "<class 'pandas.core.frame.DataFrame'>\n",
            "RangeIndex: 94 entries, 0 to 93\n",
            "Data columns (total 2 columns):\n",
            " #   Column                 Non-Null Count  Dtype  \n",
            "---  ------                 --------------  -----  \n",
            " 0   dropoff_location_name  94 non-null     object \n",
            " 1   average_trips          94 non-null     float64\n",
            "dtypes: float64(1), object(1)\n",
            "memory usage: 1.6+ KB\n"
          ]
        }
      ],
      "source": [
        "# Verificando o dataframe \"average_trips_data\"\n",
        "average_trips_data.info()"
      ]
    },
    {
      "cell_type": "code",
      "execution_count": null,
      "metadata": {
        "id": "M-vpmgkRo0pu",
        "outputId": "f0074604-b4cf-4494-9218-6da404b0a416"
      },
      "outputs": [
        {
          "data": {
            "text/plain": [
              "(94, 2)"
            ]
          },
          "execution_count": 58,
          "metadata": {},
          "output_type": "execute_result"
        }
      ],
      "source": [
        "# Verificando o tamanho do dataframe\n",
        "average_trips_data.shape"
      ]
    },
    {
      "cell_type": "code",
      "execution_count": null,
      "metadata": {
        "id": "gw11CUQwo0pu",
        "outputId": "a3bf0193-36fe-4942-999e-c509c58753e1"
      },
      "outputs": [
        {
          "data": {
            "text/plain": [
              "0"
            ]
          },
          "execution_count": 59,
          "metadata": {},
          "output_type": "execute_result"
        }
      ],
      "source": [
        "#Verificando dados duplicados\n",
        "average_trips_data.duplicated().sum()"
      ]
    },
    {
      "cell_type": "code",
      "execution_count": null,
      "metadata": {
        "id": "TYw9b0uNo0pu",
        "outputId": "dfe69f69-6e18-4c6f-b600-29f325592c9b"
      },
      "outputs": [
        {
          "data": {
            "text/html": [
              "<div>\n",
              "<style scoped>\n",
              "    .dataframe tbody tr th:only-of-type {\n",
              "        vertical-align: middle;\n",
              "    }\n",
              "\n",
              "    .dataframe tbody tr th {\n",
              "        vertical-align: top;\n",
              "    }\n",
              "\n",
              "    .dataframe thead th {\n",
              "        text-align: right;\n",
              "    }\n",
              "</style>\n",
              "<table border=\"1\" class=\"dataframe\">\n",
              "  <thead>\n",
              "    <tr style=\"text-align: right;\">\n",
              "      <th></th>\n",
              "      <th>average_trips</th>\n",
              "    </tr>\n",
              "  </thead>\n",
              "  <tbody>\n",
              "    <tr>\n",
              "      <th>count</th>\n",
              "      <td>94.000000</td>\n",
              "    </tr>\n",
              "    <tr>\n",
              "      <th>mean</th>\n",
              "      <td>599.953728</td>\n",
              "    </tr>\n",
              "    <tr>\n",
              "      <th>std</th>\n",
              "      <td>1714.591098</td>\n",
              "    </tr>\n",
              "    <tr>\n",
              "      <th>min</th>\n",
              "      <td>1.800000</td>\n",
              "    </tr>\n",
              "    <tr>\n",
              "      <th>25%</th>\n",
              "      <td>14.266667</td>\n",
              "    </tr>\n",
              "    <tr>\n",
              "      <th>50%</th>\n",
              "      <td>52.016667</td>\n",
              "    </tr>\n",
              "    <tr>\n",
              "      <th>75%</th>\n",
              "      <td>298.858333</td>\n",
              "    </tr>\n",
              "    <tr>\n",
              "      <th>max</th>\n",
              "      <td>10727.466667</td>\n",
              "    </tr>\n",
              "  </tbody>\n",
              "</table>\n",
              "</div>"
            ],
            "text/plain": [
              "       average_trips\n",
              "count      94.000000\n",
              "mean      599.953728\n",
              "std      1714.591098\n",
              "min         1.800000\n",
              "25%        14.266667\n",
              "50%        52.016667\n",
              "75%       298.858333\n",
              "max     10727.466667"
            ]
          },
          "execution_count": 60,
          "metadata": {},
          "output_type": "execute_result"
        }
      ],
      "source": [
        "#Verificando estatísticas descritivas\n",
        "average_trips_data.describe()"
      ]
    },
    {
      "cell_type": "markdown",
      "metadata": {
        "id": "roeKn5Wco0pv"
      },
      "source": [
        "- Constatamos que não foram encontrados dados duplicados, ausentes ou inconsistências de formato nos dataframes `trips` e `average`. Essa constatação é importante, pois indica que os dados estão completos, consistentes e prontos para serem utilizados nas análises posteriores. Com isso, podemos prosseguir com confiança na exploração desses dataframes."
      ]
    },
    {
      "cell_type": "markdown",
      "metadata": {
        "id": "r8VpoRAho0pv"
      },
      "source": [
        "### Analisando `loop_trips`"
      ]
    },
    {
      "cell_type": "code",
      "execution_count": null,
      "metadata": {
        "id": "yM12ABqgo0pv",
        "outputId": "0562eabc-ed40-4323-82af-e26e3745421d"
      },
      "outputs": [
        {
          "name": "stdout",
          "output_type": "stream",
          "text": [
            "<class 'pandas.core.frame.DataFrame'>\n",
            "RangeIndex: 1068 entries, 0 to 1067\n",
            "Data columns (total 3 columns):\n",
            " #   Column              Non-Null Count  Dtype  \n",
            "---  ------              --------------  -----  \n",
            " 0   start_ts            1068 non-null   object \n",
            " 1   weather_conditions  1068 non-null   object \n",
            " 2   duration_seconds    1068 non-null   float64\n",
            "dtypes: float64(1), object(2)\n",
            "memory usage: 25.2+ KB\n"
          ]
        }
      ],
      "source": [
        "# Verificando o dataframe \"loop_trips\"\n",
        "loop_trips.info()"
      ]
    },
    {
      "cell_type": "code",
      "execution_count": null,
      "metadata": {
        "id": "FCHO1Cawo0pw",
        "outputId": "e58c7446-f9ca-43f4-c81c-9c522b57efbd"
      },
      "outputs": [
        {
          "data": {
            "text/plain": [
              "(1068, 3)"
            ]
          },
          "execution_count": 62,
          "metadata": {},
          "output_type": "execute_result"
        }
      ],
      "source": [
        "# Verificando o tamanho do dataframe\n",
        "loop_trips.shape"
      ]
    },
    {
      "cell_type": "code",
      "execution_count": null,
      "metadata": {
        "id": "gMAXw4S0o0pw",
        "outputId": "8a8b1bc8-93a1-44e3-c3bb-4728e68d8aaf"
      },
      "outputs": [
        {
          "data": {
            "text/html": [
              "<div>\n",
              "<style scoped>\n",
              "    .dataframe tbody tr th:only-of-type {\n",
              "        vertical-align: middle;\n",
              "    }\n",
              "\n",
              "    .dataframe tbody tr th {\n",
              "        vertical-align: top;\n",
              "    }\n",
              "\n",
              "    .dataframe thead th {\n",
              "        text-align: right;\n",
              "    }\n",
              "</style>\n",
              "<table border=\"1\" class=\"dataframe\">\n",
              "  <thead>\n",
              "    <tr style=\"text-align: right;\">\n",
              "      <th></th>\n",
              "      <th>duration_seconds</th>\n",
              "    </tr>\n",
              "  </thead>\n",
              "  <tbody>\n",
              "    <tr>\n",
              "      <th>count</th>\n",
              "      <td>1068.000000</td>\n",
              "    </tr>\n",
              "    <tr>\n",
              "      <th>mean</th>\n",
              "      <td>2071.731273</td>\n",
              "    </tr>\n",
              "    <tr>\n",
              "      <th>std</th>\n",
              "      <td>769.461125</td>\n",
              "    </tr>\n",
              "    <tr>\n",
              "      <th>min</th>\n",
              "      <td>0.000000</td>\n",
              "    </tr>\n",
              "    <tr>\n",
              "      <th>25%</th>\n",
              "      <td>1438.250000</td>\n",
              "    </tr>\n",
              "    <tr>\n",
              "      <th>50%</th>\n",
              "      <td>1980.000000</td>\n",
              "    </tr>\n",
              "    <tr>\n",
              "      <th>75%</th>\n",
              "      <td>2580.000000</td>\n",
              "    </tr>\n",
              "    <tr>\n",
              "      <th>max</th>\n",
              "      <td>7440.000000</td>\n",
              "    </tr>\n",
              "  </tbody>\n",
              "</table>\n",
              "</div>"
            ],
            "text/plain": [
              "       duration_seconds\n",
              "count       1068.000000\n",
              "mean        2071.731273\n",
              "std          769.461125\n",
              "min            0.000000\n",
              "25%         1438.250000\n",
              "50%         1980.000000\n",
              "75%         2580.000000\n",
              "max         7440.000000"
            ]
          },
          "execution_count": 63,
          "metadata": {},
          "output_type": "execute_result"
        }
      ],
      "source": [
        "#Verificando estatísticas descritivas\n",
        "loop_trips.describe()"
      ]
    },
    {
      "cell_type": "markdown",
      "metadata": {
        "id": "K-6TqPu7o0px"
      },
      "source": [
        "-  Identificamos que a coluna `start_ts`, que representa a data e hora do início da corrida, possui um formato inconsistente. Para garantir a consistência e facilitar as manipulações futuras, é recomendado converter essa coluna para o tipo _datetime_."
      ]
    },
    {
      "cell_type": "code",
      "execution_count": null,
      "metadata": {
        "id": "hRm0ApN5o0px"
      },
      "outputs": [],
      "source": [
        "#Convertendo coluna `start_ts`\n",
        "loop_trips['start_ts'] = pd.to_datetime(loop_trips['start_ts'])"
      ]
    },
    {
      "cell_type": "code",
      "execution_count": null,
      "metadata": {
        "id": "5_XwTCxGo0py",
        "outputId": "ae0423f7-0351-4499-8a05-aaf213221083"
      },
      "outputs": [
        {
          "name": "stdout",
          "output_type": "stream",
          "text": [
            "<class 'pandas.core.frame.DataFrame'>\n",
            "RangeIndex: 1068 entries, 0 to 1067\n",
            "Data columns (total 3 columns):\n",
            " #   Column              Non-Null Count  Dtype         \n",
            "---  ------              --------------  -----         \n",
            " 0   start_ts            1068 non-null   datetime64[ns]\n",
            " 1   weather_conditions  1068 non-null   object        \n",
            " 2   duration_seconds    1068 non-null   float64       \n",
            "dtypes: datetime64[ns](1), float64(1), object(1)\n",
            "memory usage: 25.2+ KB\n"
          ]
        }
      ],
      "source": [
        "#Verificando a conversão\n",
        "loop_trips.info()"
      ]
    },
    {
      "cell_type": "markdown",
      "metadata": {
        "id": "OEoEtNByo0py"
      },
      "source": [
        "## Identificando os 10 principais bairros em termos de destinos\n",
        "\n",
        "- Vamos ordenar o dataframe _`average_trips_data`_ em ordem decrescente com base na coluna `average_trips`. Ao usar o método sort_values() com o parâmetro ascending=False, os bairros serão classificados do maior para o menor número médio de viagens."
      ]
    },
    {
      "cell_type": "code",
      "execution_count": null,
      "metadata": {
        "id": "E6VjB9Qro0pz",
        "outputId": "8317b171-02af-4e05-8bdc-cd0a0be123eb"
      },
      "outputs": [
        {
          "data": {
            "text/html": [
              "<div>\n",
              "<style scoped>\n",
              "    .dataframe tbody tr th:only-of-type {\n",
              "        vertical-align: middle;\n",
              "    }\n",
              "\n",
              "    .dataframe tbody tr th {\n",
              "        vertical-align: top;\n",
              "    }\n",
              "\n",
              "    .dataframe thead th {\n",
              "        text-align: right;\n",
              "    }\n",
              "</style>\n",
              "<table border=\"1\" class=\"dataframe\">\n",
              "  <thead>\n",
              "    <tr style=\"text-align: right;\">\n",
              "      <th></th>\n",
              "      <th>dropoff_location_name</th>\n",
              "      <th>average_trips</th>\n",
              "    </tr>\n",
              "  </thead>\n",
              "  <tbody>\n",
              "    <tr>\n",
              "      <th>0</th>\n",
              "      <td>Loop</td>\n",
              "      <td>10727.466667</td>\n",
              "    </tr>\n",
              "    <tr>\n",
              "      <th>1</th>\n",
              "      <td>River North</td>\n",
              "      <td>9523.666667</td>\n",
              "    </tr>\n",
              "    <tr>\n",
              "      <th>2</th>\n",
              "      <td>Streeterville</td>\n",
              "      <td>6664.666667</td>\n",
              "    </tr>\n",
              "    <tr>\n",
              "      <th>3</th>\n",
              "      <td>West Loop</td>\n",
              "      <td>5163.666667</td>\n",
              "    </tr>\n",
              "    <tr>\n",
              "      <th>4</th>\n",
              "      <td>O'Hare</td>\n",
              "      <td>2546.900000</td>\n",
              "    </tr>\n",
              "    <tr>\n",
              "      <th>5</th>\n",
              "      <td>Lake View</td>\n",
              "      <td>2420.966667</td>\n",
              "    </tr>\n",
              "    <tr>\n",
              "      <th>6</th>\n",
              "      <td>Grant Park</td>\n",
              "      <td>2068.533333</td>\n",
              "    </tr>\n",
              "    <tr>\n",
              "      <th>7</th>\n",
              "      <td>Museum Campus</td>\n",
              "      <td>1510.000000</td>\n",
              "    </tr>\n",
              "    <tr>\n",
              "      <th>8</th>\n",
              "      <td>Gold Coast</td>\n",
              "      <td>1364.233333</td>\n",
              "    </tr>\n",
              "    <tr>\n",
              "      <th>9</th>\n",
              "      <td>Sheffield &amp; DePaul</td>\n",
              "      <td>1259.766667</td>\n",
              "    </tr>\n",
              "  </tbody>\n",
              "</table>\n",
              "</div>"
            ],
            "text/plain": [
              "  dropoff_location_name  average_trips\n",
              "0                  Loop   10727.466667\n",
              "1           River North    9523.666667\n",
              "2         Streeterville    6664.666667\n",
              "3             West Loop    5163.666667\n",
              "4                O'Hare    2546.900000\n",
              "5             Lake View    2420.966667\n",
              "6            Grant Park    2068.533333\n",
              "7         Museum Campus    1510.000000\n",
              "8            Gold Coast    1364.233333\n",
              "9    Sheffield & DePaul    1259.766667"
            ]
          },
          "execution_count": 66,
          "metadata": {},
          "output_type": "execute_result"
        }
      ],
      "source": [
        "# Top destinos\n",
        "top_10_destinations = average_trips_data.sort_values(by=['average_trips'], ascending=False).head(10)\n",
        "top_10_destinations"
      ]
    },
    {
      "cell_type": "markdown",
      "metadata": {
        "id": "r2sPjG9to0p0"
      },
      "source": [
        "Os 10 principais bairros em termos de destinos, com base no número médio de viagens que terminaram em cada bairro em novembro de 2017, são:\n",
        "\n",
        "1. Loop - 10.727,47 viagens em média\n",
        "2. River North - 9.523,67 viagens em média\n",
        "3. Streeterville - 6.664,67 viagens em média\n",
        "4. West Loop - 5.163,67 viagens em média\n",
        "5. O'Hare - 2.546,90 viagens em média\n",
        "6. Lake View - 2.420,97 viagens em média\n",
        "7. Grant Park - 2.068,53 viagens em média\n",
        "8. Museum Campus - 1.510,00 viagens em média\n",
        "9. Gold Coast - 1.364,23 viagens em média\n",
        "10. Sheffield & DePaul - 1.259,77 viagens em média\n",
        "\n",
        "Esses bairros tiveram os maiores números médios de viagens que terminaram em cada um deles durante o período analisado em novembro de 2017."
      ]
    },
    {
      "cell_type": "markdown",
      "metadata": {
        "id": "W3y2KLgEo0p0"
      },
      "source": [
        "- Vamos aplicar o mesmo processo de análise para as companhias, a fim de obter um conjunto contendo as principais empresas. Isso nos permitirá criar um gráfico significativo posteriormente."
      ]
    },
    {
      "cell_type": "code",
      "execution_count": null,
      "metadata": {
        "id": "wcGnH2sIo0p1",
        "outputId": "0bad05bc-acc9-4876-b58b-3583f5033df7"
      },
      "outputs": [
        {
          "data": {
            "text/html": [
              "<div>\n",
              "<style scoped>\n",
              "    .dataframe tbody tr th:only-of-type {\n",
              "        vertical-align: middle;\n",
              "    }\n",
              "\n",
              "    .dataframe tbody tr th {\n",
              "        vertical-align: top;\n",
              "    }\n",
              "\n",
              "    .dataframe thead th {\n",
              "        text-align: right;\n",
              "    }\n",
              "</style>\n",
              "<table border=\"1\" class=\"dataframe\">\n",
              "  <thead>\n",
              "    <tr style=\"text-align: right;\">\n",
              "      <th></th>\n",
              "      <th>company_name</th>\n",
              "      <th>trips_amount</th>\n",
              "    </tr>\n",
              "  </thead>\n",
              "  <tbody>\n",
              "    <tr>\n",
              "      <th>0</th>\n",
              "      <td>Flash Cab</td>\n",
              "      <td>19558</td>\n",
              "    </tr>\n",
              "    <tr>\n",
              "      <th>1</th>\n",
              "      <td>Taxi Affiliation Services</td>\n",
              "      <td>11422</td>\n",
              "    </tr>\n",
              "    <tr>\n",
              "      <th>2</th>\n",
              "      <td>Medallion Leasing</td>\n",
              "      <td>10367</td>\n",
              "    </tr>\n",
              "    <tr>\n",
              "      <th>3</th>\n",
              "      <td>Yellow Cab</td>\n",
              "      <td>9888</td>\n",
              "    </tr>\n",
              "    <tr>\n",
              "      <th>4</th>\n",
              "      <td>Taxi Affiliation Service Yellow</td>\n",
              "      <td>9299</td>\n",
              "    </tr>\n",
              "    <tr>\n",
              "      <th>5</th>\n",
              "      <td>Chicago Carriage Cab Corp</td>\n",
              "      <td>9181</td>\n",
              "    </tr>\n",
              "    <tr>\n",
              "      <th>6</th>\n",
              "      <td>City Service</td>\n",
              "      <td>8448</td>\n",
              "    </tr>\n",
              "    <tr>\n",
              "      <th>7</th>\n",
              "      <td>Sun Taxi</td>\n",
              "      <td>7701</td>\n",
              "    </tr>\n",
              "    <tr>\n",
              "      <th>8</th>\n",
              "      <td>Star North Management LLC</td>\n",
              "      <td>7455</td>\n",
              "    </tr>\n",
              "    <tr>\n",
              "      <th>9</th>\n",
              "      <td>Blue Ribbon Taxi Association Inc.</td>\n",
              "      <td>5953</td>\n",
              "    </tr>\n",
              "    <tr>\n",
              "      <th>10</th>\n",
              "      <td>Choice Taxi Association</td>\n",
              "      <td>5015</td>\n",
              "    </tr>\n",
              "    <tr>\n",
              "      <th>11</th>\n",
              "      <td>Globe Taxi</td>\n",
              "      <td>4383</td>\n",
              "    </tr>\n",
              "    <tr>\n",
              "      <th>12</th>\n",
              "      <td>Dispatch Taxi Affiliation</td>\n",
              "      <td>3355</td>\n",
              "    </tr>\n",
              "    <tr>\n",
              "      <th>13</th>\n",
              "      <td>Nova Taxi Affiliation Llc</td>\n",
              "      <td>3175</td>\n",
              "    </tr>\n",
              "    <tr>\n",
              "      <th>14</th>\n",
              "      <td>Patriot Taxi Dba Peace Taxi Association</td>\n",
              "      <td>2235</td>\n",
              "    </tr>\n",
              "    <tr>\n",
              "      <th>15</th>\n",
              "      <td>Checker Taxi Affiliation</td>\n",
              "      <td>2216</td>\n",
              "    </tr>\n",
              "    <tr>\n",
              "      <th>16</th>\n",
              "      <td>Blue Diamond</td>\n",
              "      <td>2070</td>\n",
              "    </tr>\n",
              "    <tr>\n",
              "      <th>17</th>\n",
              "      <td>Chicago Medallion Management</td>\n",
              "      <td>1955</td>\n",
              "    </tr>\n",
              "    <tr>\n",
              "      <th>18</th>\n",
              "      <td>24 Seven Taxi</td>\n",
              "      <td>1775</td>\n",
              "    </tr>\n",
              "    <tr>\n",
              "      <th>19</th>\n",
              "      <td>Chicago Medallion Leasing INC</td>\n",
              "      <td>1607</td>\n",
              "    </tr>\n",
              "  </tbody>\n",
              "</table>\n",
              "</div>"
            ],
            "text/plain": [
              "                               company_name  trips_amount\n",
              "0                                 Flash Cab         19558\n",
              "1                 Taxi Affiliation Services         11422\n",
              "2                         Medallion Leasing         10367\n",
              "3                                Yellow Cab          9888\n",
              "4           Taxi Affiliation Service Yellow          9299\n",
              "5                 Chicago Carriage Cab Corp          9181\n",
              "6                              City Service          8448\n",
              "7                                  Sun Taxi          7701\n",
              "8                 Star North Management LLC          7455\n",
              "9         Blue Ribbon Taxi Association Inc.          5953\n",
              "10                  Choice Taxi Association          5015\n",
              "11                               Globe Taxi          4383\n",
              "12                Dispatch Taxi Affiliation          3355\n",
              "13                Nova Taxi Affiliation Llc          3175\n",
              "14  Patriot Taxi Dba Peace Taxi Association          2235\n",
              "15                 Checker Taxi Affiliation          2216\n",
              "16                             Blue Diamond          2070\n",
              "17             Chicago Medallion Management          1955\n",
              "18                            24 Seven Taxi          1775\n",
              "19            Chicago Medallion Leasing INC          1607"
            ]
          },
          "execution_count": 67,
          "metadata": {},
          "output_type": "execute_result"
        }
      ],
      "source": [
        "# Top companhias\n",
        "top_company = trips_data.sort_values(by=['trips_amount'], ascending=False).head(20)\n",
        "top_company"
      ]
    },
    {
      "cell_type": "markdown",
      "metadata": {
        "id": "2QcMR-cOo0p2"
      },
      "source": [
        "##  Gráficos: empresas de táxi e número de corridas, 10 principais bairros por número de corridas em que esse - bairro é destino\n",
        "\n",
        "Vamos usar a seleção das principais empresas de táxi a fim de ter um gráfico mais legível e focado nas empresas mais relevantes.\n",
        "o código seleciona as 20 principais empresas de táxi com base no número de corridas. O gráfico de barras resultante irá exibir apenas essas empresas, o que proporcionará uma melhor visualização das principais empresas de táxi em termos de número de corridas."
      ]
    },
    {
      "cell_type": "code",
      "execution_count": null,
      "metadata": {
        "id": "aKnCOKr-o0p3",
        "outputId": "73a5289a-7d5b-4859-b9f8-f4728463445f"
      },
      "outputs": [
        {
          "data": {
            "image/png": "[encoded data removed]",
            "text/plain": [
              "<Figure size 864x432 with 1 Axes>"
            ]
          },
          "metadata": {
            "needs_background": "light"
          },
          "output_type": "display_data"
        }
      ],
      "source": [
        "#Gráfico de empresas de táxi e número de corridas\n",
        "plt.figure(figsize=(12, 6))\n",
        "sns.barplot(x='trips_amount', y='company_name', data=top_company)\n",
        "plt.xlabel('Número de Corridas')\n",
        "plt.ylabel('Empresa de Táxi')\n",
        "plt.title('Número de Corridas por Empresa de Táxi')\n",
        "plt.xticks(rotation=45)  # Girar os rótulos do eixo y em 45 graus\n",
        "plt.tight_layout()  # Ajustar o layout para evitar sobreposição de rótulos\n",
        "plt.show()"
      ]
    },
    {
      "cell_type": "code",
      "execution_count": null,
      "metadata": {
        "id": "5bbswB66o0p4",
        "outputId": "3729be6d-f205-4d1b-e5b5-30e6eb777b49"
      },
      "outputs": [
        {
          "data": {
            "image/png": "[encoded data removed]",
            "text/plain": [
              "<Figure size 864x432 with 1 Axes>"
            ]
          },
          "metadata": {
            "needs_background": "light"
          },
          "output_type": "display_data"
        }
      ],
      "source": [
        "# Gráfico dos 10 principais bairros por número de corridas como destino\n",
        "top_10_destinations = average_trips_data.sort_values(by='average_trips', ascending=False).head(10)\n",
        "\n",
        "plt.figure(figsize=(12, 6))\n",
        "sns.barplot(x='average_trips', y='dropoff_location_name', data=top_10_destinations, hue='dropoff_location_name')\n",
        "plt.xlabel('Número Médio de Viagens')\n",
        "plt.ylabel('Bairro')\n",
        "plt.title('10 Principais Bairros por Número Médio de Viagens como Destino')\n",
        "plt.show()\n"
      ]
    },
    {
      "cell_type": "markdown",
      "metadata": {
        "id": "uElInwnQo0p4"
      },
      "source": [
        "***Conclusões:***\n",
        "\n",
        "* No gráfico de empresas de táxi e número de corridas, podemos identificar as empresas de táxi mais populares em termos de número de corridas. Isso pode indicar quais empresas têm uma base de clientes maior ou oferecem um serviço mais atraente para os passageiros. Por exemplo, a empresa _Flash cab_ tem um numero de corridas bem mais elevado do que a grande maioria das outras empresas.\n",
        "\n",
        "* No gráfico dos 10 principais bairros por número de corridas como destino, podemos identificar os bairros mais populares onde as corridas terminam. Isso pode indicar áreas com alta demanda por serviços de compartilhamento de caronas, e a empresa Zuber pode considerar estratégias específicas para atender a essas áreas de forma mais eficiente. Nesse gráfico podemos perceber que os bairros _Loop_ e _River North_ te número médio de viajem masi elevado do que os demais.\n",
        "\n",
        "Esses gráficos e as conclusões extraídas deles podem fornecer insights valiosos para a empresa Zuber e ajudar na tomada de decisões estratégicas e operacionais."
      ]
    },
    {
      "cell_type": "markdown",
      "metadata": {
        "id": "QvlsQg8ao0p5"
      },
      "source": [
        "\n",
        "## Testando hipóteses\n",
        "\n",
        "Para isso vamos usar o dataframe **`loop_trips`** que contém dados sobre viagens do Loop para o Aeroporto Internacional O'Hare.\n",
        "\n",
        "O dataframe contém as colunas:\n",
        "\n",
        "* `start_ts`: data e hora do começo da corrida\n",
        "\n",
        "* `weather_conditions`: condições meteorológicas no momento em que a corrida começou\n",
        "\n",
        "* `duration_seconds`: duração da viagem em segundos\n",
        "\n",
        "\n",
        "_Obs.: os dados no dataframe `loop_trips` são apenas de sábado_\n"
      ]
    },
    {
      "cell_type": "markdown",
      "metadata": {
        "id": "VC5GqRVZo0p5"
      },
      "source": [
        "***Teste de hipótese***\n",
        "\n",
        "Ao realizar um teste de hipótese, é necessário formular uma hipótese nula (H0) e uma hipótese alternativa (H1) com base na pergunta de pesquisa ou no objetivo da análise.\n",
        "\n",
        "- **Hipótese Nula (H0):** A duração média dos passeios do Loop para o Aeroporto Internacional O'Hare não muda nos sábados chuvosos.\n",
        "\n",
        "- **Hipótese Alternativa (H1):** A duração média dos passeios do Loop para o Aeroporto Internacional O'Hare muda nos sábados chuvosos."
      ]
    },
    {
      "cell_type": "code",
      "execution_count": null,
      "metadata": {
        "id": "ZscqLGQSo0p5"
      },
      "outputs": [],
      "source": [
        "# Extrair o dia da semana da coluna 'start_ts'\n",
        "loop_trips['day_of_week'] = loop_trips['start_ts'].dt.dayofweek"
      ]
    },
    {
      "cell_type": "code",
      "execution_count": null,
      "metadata": {
        "id": "2ED1dnHCo0p6",
        "outputId": "7f1f5096-ceda-4ac4-dfbe-f2030127b48b"
      },
      "outputs": [
        {
          "data": {
            "text/plain": [
              "weather_conditions\n",
              "Bad     2427.205556\n",
              "Good    1999.675676\n",
              "Name: duration_seconds, dtype: float64"
            ]
          },
          "execution_count": 71,
          "metadata": {},
          "output_type": "execute_result"
        }
      ],
      "source": [
        "# Calcular a duração média dos passeios para cada condição meteorológica\n",
        "saturday_duration = loop_trips.groupby('weather_conditions')['duration_seconds'].mean()\n",
        "saturday_duration\n"
      ]
    },
    {
      "cell_type": "markdown",
      "metadata": {
        "id": "ZDpoZ-1lo0p6"
      },
      "source": [
        "- Primeiramente, extraimos o dia da semana da coluna `start_ts` no dataframe `loop_trips`. Essa extração nos permitirá ter a informação específica do dia da semana em que cada viagem ocorreu. Podemos realizar essa extração utilizando o método _dt.dayofweek_."
      ]
    },
    {
      "cell_type": "code",
      "execution_count": null,
      "metadata": {
        "id": "2316pvI4o0p6"
      },
      "outputs": [],
      "source": [
        "# Separar os dados para condições meteorológicas 'bad' e 'good'\n",
        "bad_weather = loop_trips.loc[loop_trips['weather_conditions'] == 'Bad', 'duration_seconds']\n",
        "good_weather = loop_trips.loc[loop_trips['weather_conditions'] == 'Good', 'duration_seconds']"
      ]
    },
    {
      "cell_type": "code",
      "execution_count": null,
      "metadata": {
        "id": "ObUpMNa4o0p7"
      },
      "outputs": [],
      "source": [
        "# Executar o teste de hipótese (Realizar o teste de Mann-Whitney U)\n",
        "statistic, p_value = mannwhitneyu(bad_weather, good_weather)"
      ]
    },
    {
      "cell_type": "code",
      "execution_count": null,
      "metadata": {
        "id": "BaVvbVTxo0p7"
      },
      "outputs": [],
      "source": [
        "# Nível de significância (alfa)\n",
        "alpha = 0.05"
      ]
    },
    {
      "cell_type": "code",
      "execution_count": null,
      "metadata": {
        "id": "t9bZy1ieo0p8",
        "outputId": "4c565bfb-14e4-4682-aa8e-f27e7584152a"
      },
      "outputs": [
        {
          "data": {
            "text/plain": [
              "6       2969.0\n",
              "30      1980.0\n",
              "34      2460.0\n",
              "51      2760.0\n",
              "52      2460.0\n",
              "         ...  \n",
              "1031    2560.0\n",
              "1032    1908.0\n",
              "1053    2400.0\n",
              "1061    2186.0\n",
              "1067    2834.0\n",
              "Name: duration_seconds, Length: 180, dtype: float64"
            ]
          },
          "execution_count": 75,
          "metadata": {},
          "output_type": "execute_result"
        }
      ],
      "source": [
        "bad_weather"
      ]
    },
    {
      "cell_type": "code",
      "execution_count": null,
      "metadata": {
        "id": "N_H6grIeo0p8",
        "outputId": "6f42a9db-0064-494a-bc44-664db46c6df1"
      },
      "outputs": [
        {
          "data": {
            "text/plain": [
              "6.716538885593458e-14"
            ]
          },
          "execution_count": 76,
          "metadata": {},
          "output_type": "execute_result"
        }
      ],
      "source": [
        "p_value"
      ]
    },
    {
      "cell_type": "code",
      "execution_count": null,
      "metadata": {
        "id": "zrvqyOsQo0p8",
        "outputId": "8d1c6c67-2149-4305-ec16-55adb54a021b"
      },
      "outputs": [
        {
          "name": "stdout",
          "output_type": "stream",
          "text": [
            "A duração média dos passeios do Loop para o Aeroporto Internacional O'Hare muda nos sábados chuvosos.\n"
          ]
        }
      ],
      "source": [
        "# Verificar se a diferença é estatisticamente significativa\n",
        "if p_value < alpha:\n",
        "    print(\"A duração média dos passeios do Loop para o Aeroporto Internacional O'Hare muda nos sábados chuvosos.\")\n",
        "else:\n",
        "    print(\"Não há evidências para suportar a hipótese de que a duração média dos passeios do Loop para o Aeroporto Internacional O'Hare muda nos sábados chuvosos.\")\n",
        "\n",
        ""
      ]
    },
    {
      "cell_type": "markdown",
      "metadata": {
        "id": "33zID1Flo0p8"
      },
      "source": [
        "O teste t é um teste paramétrico que pressupõe a normalidade dos dados e a igualdade de variâncias entre os grupos sendo comparados. No entanto, obtive o aviso \"RuntimeWarning\" durante a execução do teste t sugeriu que a variância dos grupos pode ser zero ou muito baixa, o que viola uma das premissas do teste t.\n",
        "\n",
        "Diante dessas circunstâncias, o teste t não seria apropriado para analisar a diferença entre as condições 'Bad' e 'Good'. Nesse caso, o teste de Mann-Whitney U é uma alternativa adequada. O teste de Mann-Whitney U é um teste não paramétrico que não exige a normalidade dos dados nem a igualdade de variâncias. Ele é usado para comparar as medianas dos grupos, o que o torna uma opção robusta quando as premissas do teste t não são satisfeitas.\n",
        "\n",
        "Ao realizar esse teste, obtemos resultados válidos para avaliar se há uma diferença estatisticamente significativa entre as condições. Nesse caso concluimos que há evidências para suportar a hipótese de que a duração média dos passeios do Loop para o Aeroporto Internacional O'Hare muda nos sábados chuvosos."
      ]
    },
    {
      "cell_type": "markdown",
      "metadata": {
        "id": "sHVrJ-PHo0p9"
      },
      "source": [
        "## Explique:\n",
        "\n",
        "* Como você formou as hipóteses nula e alternativa\n",
        "* Qual critério você usou para testar a hipótese e porque"
      ]
    },
    {
      "cell_type": "markdown",
      "metadata": {
        "id": "fCvSNSpdo0p9"
      },
      "source": [
        "As _hipóteses nula e alternativa_ foram formuladas com base na suspeita de que as condições meteorológicas podem ter um impacto na duração média dos passeios do Loop para o Aeroporto Internacional O'Hare. A _hipótese nula_ assume que não há diferença na duração média entre sábados chuvosos e não chuvosos, enquanto a _hipótese alternativa_ sugere que há uma diferença na duração média dos passeios entre as condições meteorológicas.\n",
        "\n",
        "Para testar essas hipóteses, utilizamos o teste de hipótese estatístico, especificamente o teste de Mann-Whitney U. Esse teste é apropriado quando os dados não seguem uma distribuição normal e as variâncias dos grupos podem ser diferentes. Optamos por esse teste por essas características presentes nos nossos dados de duração dos passeios.\n",
        "\n",
        "O critério usado para testar a hipótese foi o valor-p. O valor-p é uma medida de evidência estatística que indica a probabilidade de obter um resultado igual ou mais extremo do que o observado, assumindo que a hipótese nula seja verdadeira. Comparamos o valor-p obtido com um nível de significância pré-determinado (alfa) para tomar uma decisão.\n",
        "\n",
        "Se o valor-p for menor que o nível de significância (alfa), consideramos a evidência estatisticamente significativa e rejeitamos a hipótese nula em favor da hipótese alternativa. Isso indica que há uma diferença estatisticamente significativa na duração média dos passeios entre as condições meteorológicas. Por outro lado, se o valor-p for maior que o nível de significância, não encontramos evidências suficientes para rejeitar a hipótese nula e não podemos concluir que há uma diferença estatisticamente significativa.\n",
        "\n",
        "Com base nos resultados obtidos, concluímos que há evidências estatísticas para suportar a hipótese de que a duração média dos passeios do Loop para o Aeroporto Internacional O'Hare muda nos sábados chuvosos. Essas conclusões nos permitem compreender melhor a influência das condições meteorológicas na duração dos passeios e fornecer insights valiosos para a tomada de decisões da empresa Zuber."
      ]
    },
    {
      "cell_type": "markdown",
      "metadata": {
        "id": "DE7jI2-yo0p9"
      },
      "source": [
        "## Conclusão\n",
        "\n",
        "Ao concluir este projeto de análise de dados da Zuber, uma empresa de compartilhamento de caronas em Chicago, pudemos obter insights valiosos sobre as preferências dos passageiros e o impacto de fatores externos nas corridas. Nossa análise exploratória nos permitiu compreender melhor o cenário de transporte da cidade, identificar os principais bairros de destino e as empresas de táxi mais populares.\n",
        "\n",
        "Ao analisar os dados sobre as empresas de táxi, descobrimos que algumas empresas se destacam em termos do número de corridas realizadas. Essas informações podem ser úteis para a Zuber ao estabelecer parcerias estratégicas ou ao desenvolver estratégias de marketing para atrair mais usuários.\n",
        "\n",
        "Além disso, investigamos a hipótese de que a duração média dos passeios do Loop para o Aeroporto Internacional O'Hare muda em sábados chuvosos. Utilizando o teste de Mann-Whitney U, verificamos que há uma diferença estatisticamente significativa na duração média dos passeios entre sábados chuvosos e não chuvosos. Com o teste, comprovamos a hipótese de que a duração média dos passeios do Loop para o Aeroporto Internacional O'Hare de fato muda nos sábados chuvosos.\n",
        "\n",
        "No entanto, é importante ressaltar que nosso estudo teve algumas limitações. Embora tenhamos analisado dados de uma amostra representativa, os resultados podem não ser generalizáveis para todos os períodos ou condições meteorológicas. Além disso, nosso modelo de análise pode ser aprimorado com a inclusão de mais variáveis, como horários específicos do dia ou eventos especiais que possam afetar as viagens de táxi.\n",
        "\n",
        "Com base nas descobertas deste projeto, a Zuber pode utilizar essas informações para otimizar suas operações e oferecer um serviço de compartilhamento de caronas mais eficiente e adaptado às necessidades dos passageiros. Por exemplo, a empresa pode considerar parcerias estratégicas com empresas de táxi mais populares ou oferecer promoções especiais em dias chuvosos para incentivar as viagens.\n",
        "\n",
        "Em resumo, este projeto de análise de dados proporcionou uma visão valiosa sobre as preferências dos passageiros e o impacto das condições meteorológicas nas corridas de táxi em Chicago. Com as informações obtidas, a Zuber está mais bem equipada para tomar decisões informadas e fornecer um serviço de qualidade aos seus clientes."
      ]
    },
    {
      "cell_type": "code",
      "execution_count": null,
      "metadata": {
        "id": "qdvPyC4Wo0p-"
      },
      "outputs": [],
      "source": []
    }
  ],
  "metadata": {
    "kernelspec": {
      "display_name": "Python 3 (ipykernel)",
      "language": "python",
      "name": "python3"
    },
    "language_info": {
      "codemirror_mode": {
        "name": "ipython",
        "version": 3
      },
      "file_extension": ".py",
      "mimetype": "text/x-python",
      "name": "python",
      "nbconvert_exporter": "python",
      "pygments_lexer": "ipython3",
      "version": "3.11.0"
    },
    "toc": {
      "base_numbering": 1,
      "nav_menu": {},
      "number_sections": true,
      "sideBar": true,
      "skip_h1_title": true,
      "title_cell": "Table of Contents",
      "title_sidebar": "Contents",
      "toc_cell": false,
      "toc_position": {},
      "toc_section_display": true,
      "toc_window_display": false
    },
    "colab": {
      "provenance": [],
      "include_colab_link": true
    }
  },
  "nbformat": 4,
  "nbformat_minor": 0
}